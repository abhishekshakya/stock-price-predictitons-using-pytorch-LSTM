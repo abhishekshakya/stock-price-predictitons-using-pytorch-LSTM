{
  "nbformat": 4,
  "nbformat_minor": 0,
  "metadata": {
    "colab": {
      "name": "Stock.ipynb",
      "provenance": [],
      "collapsed_sections": [],
      "authorship_tag": "ABX9TyPK7AwrxqIjAIUVC9b8lhq5",
      "include_colab_link": true
    },
    "kernelspec": {
      "name": "python3",
      "display_name": "Python 3"
    },
    "accelerator": "GPU"
  },
  "cells": [
    {
      "cell_type": "markdown",
      "metadata": {
        "id": "view-in-github",
        "colab_type": "text"
      },
      "source": [
        "<a href=\"https://colab.research.google.com/github/abhishekshakya/stock-price-predictitons-using-pytorch-LSTM/blob/master/Stock.ipynb\" target=\"_parent\"><img src=\"https://colab.research.google.com/assets/colab-badge.svg\" alt=\"Open In Colab\"/></a>"
      ]
    },
    {
      "cell_type": "code",
      "metadata": {
        "id": "0J28V1OkdJ3z",
        "colab_type": "code",
        "colab": {}
      },
      "source": [
        "import numpy as np\n",
        "import pandas as pd\n",
        "from sklearn.preprocessing import MinMaxScaler\n",
        "from tqdm import tqdm\n",
        "import matplotlib.pyplot as plt\n",
        "from sklearn.metrics import r2_score"
      ],
      "execution_count": 1,
      "outputs": []
    },
    {
      "cell_type": "code",
      "metadata": {
        "id": "cQIY1uwadhPx",
        "colab_type": "code",
        "colab": {
          "base_uri": "https://localhost:8080/",
          "height": 34
        },
        "outputId": "8c3c6464-7d07-42df-ff2f-45ebe4fe4fe6"
      },
      "source": [
        "dfx = pd.read_csv('x_train.csv')\n",
        "dfy = pd.read_csv('x_test.csv')\n",
        "print(dfx.shape,dfy.shape)"
      ],
      "execution_count": 2,
      "outputs": [
        {
          "output_type": "stream",
          "text": [
            "(1257, 1) (19, 1)\n"
          ],
          "name": "stdout"
        }
      ]
    },
    {
      "cell_type": "code",
      "metadata": {
        "id": "uchsWI9idj3q",
        "colab_type": "code",
        "colab": {}
      },
      "source": [
        "df = pd.concat([dfx,dfy])\n",
        "x = df.values"
      ],
      "execution_count": 3,
      "outputs": []
    },
    {
      "cell_type": "code",
      "metadata": {
        "id": "PkKy2QZidqQP",
        "colab_type": "code",
        "colab": {}
      },
      "source": [
        "#normalizing the data\n",
        "scale = MinMaxScaler((0,1))\n",
        "x = scale.fit_transform(x)"
      ],
      "execution_count": 4,
      "outputs": []
    },
    {
      "cell_type": "code",
      "metadata": {
        "id": "8hB8pXjJdqmU",
        "colab_type": "code",
        "colab": {}
      },
      "source": [
        "x_new = []\n",
        "y_new = []\n",
        "for i in range(60,x.shape[0]):\n",
        "    x_new.append(x[i-60:i,0])\n",
        "    y_new.append(x[i,0])\n",
        "\n",
        "x_new = np.array(x_new)\n",
        "y_new = np.array(y_new)"
      ],
      "execution_count": 5,
      "outputs": []
    },
    {
      "cell_type": "code",
      "metadata": {
        "id": "ag_GronKdzZ5",
        "colab_type": "code",
        "colab": {
          "base_uri": "https://localhost:8080/",
          "height": 34
        },
        "outputId": "52397574-23b9-4728-b94e-2ef4d024ce4d"
      },
      "source": [
        "SPLIT = 0.1\n",
        "div = int(x_new.shape[0]*SPLIT)\n",
        "print(div)"
      ],
      "execution_count": 6,
      "outputs": [
        {
          "output_type": "stream",
          "text": [
            "121\n"
          ],
          "name": "stdout"
        }
      ]
    },
    {
      "cell_type": "code",
      "metadata": {
        "id": "uY-ylPNbd1VU",
        "colab_type": "code",
        "colab": {
          "base_uri": "https://localhost:8080/",
          "height": 34
        },
        "outputId": "7d0d89e8-9ab8-4c9d-97a3-90383aafc402"
      },
      "source": [
        "x_train = x_new[:-div]\n",
        "y_train = y_new[:-div]\n",
        "\n",
        "x_test = x_new[-div:]\n",
        "y_test = y_new[-div:]\n",
        "\n",
        "print(x_train.shape,x_test.shape,y_train.shape,y_test.shape)"
      ],
      "execution_count": 7,
      "outputs": [
        {
          "output_type": "stream",
          "text": [
            "(1095, 60) (121, 60) (1095,) (121,)\n"
          ],
          "name": "stdout"
        }
      ]
    },
    {
      "cell_type": "code",
      "metadata": {
        "id": "3M9-U4q5d3EM",
        "colab_type": "code",
        "colab": {}
      },
      "source": [
        "import torch\n",
        "import torch.nn as nn\n",
        "import torch.nn.functional as F\n",
        "import torch.optim as optim"
      ],
      "execution_count": 8,
      "outputs": []
    },
    {
      "cell_type": "code",
      "metadata": {
        "id": "SZtrxrvwd5WD",
        "colab_type": "code",
        "colab": {}
      },
      "source": [
        "input_dim = 60\n",
        "hidden_dim = 64\n",
        "\n",
        "class myLSTM(nn.Module):\n",
        "    def __init__(self):\n",
        "        super().__init__()\n",
        "        \n",
        "        self.l1 = nn.LSTM(input_dim,hidden_dim,batch_first=True,num_layers=1)\n",
        "        self.fc1 = nn.Linear(hidden_dim,1)\n",
        "    \n",
        "    def forward(self,x):\n",
        "        x = x.reshape(-1,1,input_dim)\n",
        "        # print(x.shape)\n",
        "        x,(hidden_state,cell_state) = self.l1(x)\n",
        "        # print(hidden_state.shape)\n",
        "        x = hidden_state[-1].reshape(-1,hidden_dim)\n",
        "        x = self.fc1(x)\n",
        "\n",
        "        return x\n",
        "\n",
        "        \n",
        "        \n",
        "        "
      ],
      "execution_count": 9,
      "outputs": []
    },
    {
      "cell_type": "code",
      "metadata": {
        "id": "otZJX2zDeWTy",
        "colab_type": "code",
        "colab": {}
      },
      "source": [
        "device =  torch.device(\"cuda\" if torch.cuda.is_available() else 'cpu')"
      ],
      "execution_count": 10,
      "outputs": []
    },
    {
      "cell_type": "code",
      "metadata": {
        "id": "gVtcHkzcehCh",
        "colab_type": "code",
        "colab": {
          "base_uri": "https://localhost:8080/",
          "height": 34
        },
        "outputId": "4463266f-9f5f-4bb1-ce6c-a971305c6126"
      },
      "source": [
        "device"
      ],
      "execution_count": 11,
      "outputs": [
        {
          "output_type": "execute_result",
          "data": {
            "text/plain": [
              "device(type='cuda')"
            ]
          },
          "metadata": {
            "tags": []
          },
          "execution_count": 11
        }
      ]
    },
    {
      "cell_type": "code",
      "metadata": {
        "id": "8imAleOfeh8w",
        "colab_type": "code",
        "colab": {}
      },
      "source": [
        "model = myLSTM()\n",
        "lass = nn.MSELoss()\n",
        "optimizer = optim.Adam(model.parameters(),lr=0.0001)"
      ],
      "execution_count": 34,
      "outputs": []
    },
    {
      "cell_type": "code",
      "metadata": {
        "id": "WEtwySP6emwF",
        "colab_type": "code",
        "colab": {
          "base_uri": "https://localhost:8080/",
          "height": 85
        },
        "outputId": "6a2a04e6-e45d-46fb-cbf0-7a853d773d11"
      },
      "source": [
        "print(model)"
      ],
      "execution_count": 35,
      "outputs": [
        {
          "output_type": "stream",
          "text": [
            "myLSTM(\n",
            "  (l1): LSTM(60, 64, batch_first=True)\n",
            "  (fc1): Linear(in_features=64, out_features=1, bias=True)\n",
            ")\n"
          ],
          "name": "stdout"
        }
      ]
    },
    {
      "cell_type": "code",
      "metadata": {
        "id": "WLgfuhFYfnRo",
        "colab_type": "code",
        "colab": {
          "base_uri": "https://localhost:8080/",
          "height": 85
        },
        "outputId": "c306e2f8-08ec-43d5-ecb8-a254d698496f"
      },
      "source": [
        "model.to(device)"
      ],
      "execution_count": 36,
      "outputs": [
        {
          "output_type": "execute_result",
          "data": {
            "text/plain": [
              "myLSTM(\n",
              "  (l1): LSTM(60, 64, batch_first=True)\n",
              "  (fc1): Linear(in_features=64, out_features=1, bias=True)\n",
              ")"
            ]
          },
          "metadata": {
            "tags": []
          },
          "execution_count": 36
        }
      ]
    },
    {
      "cell_type": "code",
      "metadata": {
        "id": "i-24B-xEfB3g",
        "colab_type": "code",
        "colab": {}
      },
      "source": [
        "def training(x_train,y_train,x_test,y_test,epochs=250):\n",
        "    model.train()\n",
        "    x_train = torch.from_numpy(x_train).float().to(device)\n",
        "    y_train = torch.from_numpy(y_train).float().to(device)\n",
        "    x_test = torch.from_numpy(x_test).float().to(device)\n",
        "    y_test = torch.from_numpy(y_test).float().to(device)\n",
        "    training_loss = []\n",
        "    val_loss = []\n",
        "    \n",
        "\n",
        "    for epoch in tqdm(range(epochs)):\n",
        "            optimizer.zero_grad()\n",
        "\n",
        "            with torch.no_grad():\n",
        "              pred = model(x_test)\n",
        "              val_l = lass(pred.reshape(-1),y_test)\n",
        "              val_loss.append(val_l)\n",
        "\n",
        "            out = model(x_train)\n",
        "            out = out.reshape(-1)\n",
        "            loss = lass(out,y_train)\n",
        "            loss.backward()\n",
        "            optimizer.step()\n",
        "\n",
        "            training_loss.append(loss.item())\n",
        "            if epoch%5==0:\n",
        "                print(f\"epoch {epoch} loss => {loss.item()}\")\n",
        "    \n",
        "    return training_loss,val_loss\n",
        "        \n",
        "            "
      ],
      "execution_count": 37,
      "outputs": []
    },
    {
      "cell_type": "code",
      "metadata": {
        "id": "lD70EK00f66-",
        "colab_type": "code",
        "colab": {
          "base_uri": "https://localhost:8080/",
          "height": 884
        },
        "outputId": "4cd4b97f-2dde-4028-d3c1-f41f216e9245"
      },
      "source": [
        "train,val = training(x_train,y_train,x_test,y_test)"
      ],
      "execution_count": 38,
      "outputs": [
        {
          "output_type": "stream",
          "text": [
            " 24%|██▎       | 59/250 [00:00<00:00, 295.00it/s]"
          ],
          "name": "stderr"
        },
        {
          "output_type": "stream",
          "text": [
            "epoch 0 loss => 0.17555572092533112\n",
            "epoch 5 loss => 0.16103139519691467\n",
            "epoch 10 loss => 0.1471569538116455\n",
            "epoch 15 loss => 0.13394546508789062\n",
            "epoch 20 loss => 0.12141039222478867\n",
            "epoch 25 loss => 0.10955865681171417\n",
            "epoch 30 loss => 0.0983903780579567\n",
            "epoch 35 loss => 0.08790265023708344\n",
            "epoch 40 loss => 0.07809251546859741\n",
            "epoch 45 loss => 0.06895826756954193\n",
            "epoch 50 loss => 0.06049925833940506\n",
            "epoch 55 loss => 0.052715107798576355\n"
          ],
          "name": "stdout"
        },
        {
          "output_type": "stream",
          "text": [
            " 48%|████▊     | 121/250 [00:00<00:00, 300.54it/s]"
          ],
          "name": "stderr"
        },
        {
          "output_type": "stream",
          "text": [
            "epoch 60 loss => 0.04560451954603195\n",
            "epoch 65 loss => 0.03916404768824577\n",
            "epoch 70 loss => 0.03338663652539253\n",
            "epoch 75 loss => 0.02826031483709812\n",
            "epoch 80 loss => 0.023767074570059776\n",
            "epoch 85 loss => 0.01988205499947071\n",
            "epoch 90 loss => 0.01657320372760296\n",
            "epoch 95 loss => 0.01380140520632267\n",
            "epoch 100 loss => 0.011521212756633759\n",
            "epoch 105 loss => 0.009682059288024902\n",
            "epoch 110 loss => 0.008229944854974747\n",
            "epoch 115 loss => 0.007109415251761675\n",
            "epoch 120 loss => 0.006265683565288782\n"
          ],
          "name": "stdout"
        },
        {
          "output_type": "stream",
          "text": [
            " 73%|███████▎  | 182/250 [00:00<00:00, 301.80it/s]"
          ],
          "name": "stderr"
        },
        {
          "output_type": "stream",
          "text": [
            "epoch 125 loss => 0.005646642297506332\n",
            "epoch 130 loss => 0.005204618908464909\n",
            "epoch 135 loss => 0.004897675476968288\n",
            "epoch 140 loss => 0.004690358880907297\n",
            "epoch 145 loss => 0.0045539019629359245\n",
            "epoch 150 loss => 0.0044659157283604145\n",
            "epoch 155 loss => 0.00440971227362752\n",
            "epoch 160 loss => 0.004373406525701284\n",
            "epoch 165 loss => 0.004348918795585632\n",
            "epoch 170 loss => 0.004331030882894993\n",
            "epoch 175 loss => 0.004316556733101606\n",
            "epoch 180 loss => 0.0043036723509430885\n",
            "epoch 185 loss => 0.004291414283216\n"
          ],
          "name": "stdout"
        },
        {
          "output_type": "stream",
          "text": [
            "100%|██████████| 250/250 [00:00<00:00, 299.20it/s]"
          ],
          "name": "stderr"
        },
        {
          "output_type": "stream",
          "text": [
            "epoch 190 loss => 0.004279322922229767\n",
            "epoch 195 loss => 0.0042672171257436275\n",
            "epoch 200 loss => 0.004255047533661127\n",
            "epoch 205 loss => 0.004242821130901575\n",
            "epoch 210 loss => 0.0042305588722229\n",
            "epoch 215 loss => 0.004218281712383032\n",
            "epoch 220 loss => 0.004206004086881876\n",
            "epoch 225 loss => 0.004193735308945179\n",
            "epoch 230 loss => 0.004181480035185814\n",
            "epoch 235 loss => 0.004169239196926355\n",
            "epoch 240 loss => 0.004157016519457102\n",
            "epoch 245 loss => 0.0041448138654232025\n"
          ],
          "name": "stdout"
        },
        {
          "output_type": "stream",
          "text": [
            "\n"
          ],
          "name": "stderr"
        }
      ]
    },
    {
      "cell_type": "code",
      "metadata": {
        "id": "FBakNf4LgBUS",
        "colab_type": "code",
        "colab": {
          "base_uri": "https://localhost:8080/",
          "height": 320
        },
        "outputId": "e11eed8a-9608-447a-faec-7cdacb407215"
      },
      "source": [
        "plt.figure(figsize=(10,5))\n",
        "plt.plot(train,label='training loss')\n",
        "plt.plot(val,label='val loss')\n",
        "plt.legend()\n",
        "plt.show()"
      ],
      "execution_count": 39,
      "outputs": [
        {
          "output_type": "display_data",
          "data": {
            "image/png": "[encoded data removed]",
            "text/plain": [
              "<Figure size 720x360 with 1 Axes>"
            ]
          },
          "metadata": {
            "tags": [],
            "needs_background": "light"
          }
        }
      ]
    },
    {
      "cell_type": "code",
      "metadata": {
        "id": "JHCtiGIMl8IP",
        "colab_type": "code",
        "colab": {
          "base_uri": "https://localhost:8080/",
          "height": 34
        },
        "outputId": "feeb8da9-7b3c-482d-9429-cfba6ec9fe2f"
      },
      "source": [
        "print(type(x_train))"
      ],
      "execution_count": 40,
      "outputs": [
        {
          "output_type": "stream",
          "text": [
            "<class 'numpy.ndarray'>\n"
          ],
          "name": "stdout"
        }
      ]
    },
    {
      "cell_type": "code",
      "metadata": {
        "id": "jrexfL5Wj9fN",
        "colab_type": "code",
        "colab": {}
      },
      "source": [
        "def accuracy(X_test,Y_test):\n",
        "  x_test = torch.from_numpy(X_test).float().to(device)\n",
        "  y_test = torch.from_numpy(Y_test).float().to(device)\n",
        "  model.eval()\n",
        "  y_pred = model(x_test)\n",
        "  # print(y_test.shape,y_pred.shape)\n",
        "  return r2_score(y_test.cpu().detach(),y_pred.reshape(-1).cpu().detach()),y_pred"
      ],
      "execution_count": 41,
      "outputs": []
    },
    {
      "cell_type": "code",
      "metadata": {
        "id": "UXlv8nsrkGnV",
        "colab_type": "code",
        "colab": {
          "base_uri": "https://localhost:8080/",
          "height": 34
        },
        "outputId": "b9b27719-8934-4e3f-9871-c556eaa4139b"
      },
      "source": [
        "acc,y_pred = accuracy(x_train,y_train)\n",
        "print(acc)"
      ],
      "execution_count": 42,
      "outputs": [
        {
          "output_type": "stream",
          "text": [
            "0.9286692411325349\n"
          ],
          "name": "stdout"
        }
      ]
    },
    {
      "cell_type": "code",
      "metadata": {
        "id": "U30NKe_vn8RX",
        "colab_type": "code",
        "colab": {
          "base_uri": "https://localhost:8080/",
          "height": 609
        },
        "outputId": "0e685030-62df-4793-bed1-7e910cc7d319"
      },
      "source": [
        "plt.figure(figsize=(15,10))\n",
        "plt.plot(scale.inverse_transform(y_train.reshape(-1,1)))\n",
        "plt.plot(scale.inverse_transform(y_pred.cpu().detach().reshape(-1,1)))"
      ],
      "execution_count": 43,
      "outputs": [
        {
          "output_type": "execute_result",
          "data": {
            "text/plain": [
              "[<matplotlib.lines.Line2D at 0x7f8f7d121978>]"
            ]
          },
          "metadata": {
            "tags": []
          },
          "execution_count": 43
        },
        {
          "output_type": "display_data",
          "data": {
            "image/png": "[encoded data removed]",
            "text/plain": [
              "<Figure size 1080x720 with 1 Axes>"
            ]
          },
          "metadata": {
            "tags": [],
            "needs_background": "light"
          }
        }
      ]
    },
    {
      "cell_type": "code",
      "metadata": {
        "id": "cZtI7QLeoQmR",
        "colab_type": "code",
        "colab": {}
      },
      "source": [
        ""
      ],
      "execution_count": 33,
      "outputs": []
    },
    {
      "cell_type": "code",
      "metadata": {
        "id": "QUHSdcoqz_-Q",
        "colab_type": "code",
        "colab": {}
      },
      "source": [
        ""
      ],
      "execution_count": null,
      "outputs": []
    }
  ]
}